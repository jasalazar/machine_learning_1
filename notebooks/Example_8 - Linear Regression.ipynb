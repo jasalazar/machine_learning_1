{
 "cells": [
  {
   "cell_type": "markdown",
   "metadata": {},
   "source": [
    "## Data-Simulated Model\n",
    "* y = a + b * x\n",
    "* x: 100 distributed values with normal N( 1.5 median , 2.5 std dev )\n",
    "\n",
    "Setting Ye (Y estimated) to: \n",
    "* Ye = 5 + 1.9 * x + e(error)\n",
    "\n",
    "* e distributed by normal N( 0 median, 0.8 std dev )"
   ]
  },
  {
   "cell_type": "code",
   "execution_count": 1,
   "metadata": {},
   "outputs": [],
   "source": [
    "import pandas as pd\n",
    "import numpy as np"
   ]
  },
  {
   "cell_type": "code",
   "execution_count": 2,
   "metadata": {},
   "outputs": [],
   "source": [
    "x = 1.5 + 2.5 * np.random.randn( 100 )"
   ]
  },
  {
   "cell_type": "code",
   "execution_count": 3,
   "metadata": {},
   "outputs": [],
   "source": [
    "err = 0 + 0.8 * np.random.randn( 100 )"
   ]
  },
  {
   "cell_type": "code",
   "execution_count": 7,
   "metadata": {},
   "outputs": [],
   "source": [
    "y_pred = 5 + 1.9 * x #Result linear regression model"
   ]
  },
  {
   "cell_type": "code",
   "execution_count": 9,
   "metadata": {},
   "outputs": [],
   "source": [
    "y_current = 5 + 1.9 * x + err  # What we currently see"
   ]
  },
  {
   "cell_type": "code",
   "execution_count": 10,
   "metadata": {},
   "outputs": [],
   "source": [
    "x_list = x.tolist()\n",
    "y_pred_list = y_pred.tolist()\n",
    "y_current_list = y_current.tolist()"
   ]
  },
  {
   "cell_type": "code",
   "execution_count": 14,
   "metadata": {},
   "outputs": [],
   "source": [
    "data = pd.DataFrame(\n",
    "    {\n",
    "        \"x\": x_list,\n",
    "        \"y_current\": y_current_list,\n",
    "        \"y_pred\": y_pred_list\n",
    "        \n",
    "    }\n",
    ")"
   ]
  },
  {
   "cell_type": "code",
   "execution_count": 15,
   "metadata": {},
   "outputs": [
    {
     "data": {
      "text/html": [
       "<div>\n",
       "<style scoped>\n",
       "    .dataframe tbody tr th:only-of-type {\n",
       "        vertical-align: middle;\n",
       "    }\n",
       "\n",
       "    .dataframe tbody tr th {\n",
       "        vertical-align: top;\n",
       "    }\n",
       "\n",
       "    .dataframe thead th {\n",
       "        text-align: right;\n",
       "    }\n",
       "</style>\n",
       "<table border=\"1\" class=\"dataframe\">\n",
       "  <thead>\n",
       "    <tr style=\"text-align: right;\">\n",
       "      <th></th>\n",
       "      <th>x</th>\n",
       "      <th>y_current</th>\n",
       "      <th>y_pred</th>\n",
       "    </tr>\n",
       "  </thead>\n",
       "  <tbody>\n",
       "    <tr>\n",
       "      <th>0</th>\n",
       "      <td>2.484284</td>\n",
       "      <td>10.544736</td>\n",
       "      <td>9.720139</td>\n",
       "    </tr>\n",
       "    <tr>\n",
       "      <th>1</th>\n",
       "      <td>0.988208</td>\n",
       "      <td>6.977663</td>\n",
       "      <td>6.877594</td>\n",
       "    </tr>\n",
       "    <tr>\n",
       "      <th>2</th>\n",
       "      <td>4.448049</td>\n",
       "      <td>13.392652</td>\n",
       "      <td>13.451293</td>\n",
       "    </tr>\n",
       "    <tr>\n",
       "      <th>3</th>\n",
       "      <td>0.578553</td>\n",
       "      <td>5.716498</td>\n",
       "      <td>6.099251</td>\n",
       "    </tr>\n",
       "    <tr>\n",
       "      <th>4</th>\n",
       "      <td>0.836374</td>\n",
       "      <td>7.009261</td>\n",
       "      <td>6.589111</td>\n",
       "    </tr>\n",
       "  </tbody>\n",
       "</table>\n",
       "</div>"
      ],
      "text/plain": [
       "          x  y_current     y_pred\n",
       "0  2.484284  10.544736   9.720139\n",
       "1  0.988208   6.977663   6.877594\n",
       "2  4.448049  13.392652  13.451293\n",
       "3  0.578553   5.716498   6.099251\n",
       "4  0.836374   7.009261   6.589111"
      ]
     },
     "execution_count": 15,
     "metadata": {},
     "output_type": "execute_result"
    }
   ],
   "source": [
    "data.head()"
   ]
  },
  {
   "cell_type": "code",
   "execution_count": 16,
   "metadata": {},
   "outputs": [],
   "source": [
    "import matplotlib.pyplot as plt"
   ]
  },
  {
   "cell_type": "code",
   "execution_count": 23,
   "metadata": {},
   "outputs": [],
   "source": [
    "y_mean = [ np.mean(y_current) for i in range( 1, len(x_list)+1 ) ]"
   ]
  },
  {
   "cell_type": "code",
   "execution_count": 26,
   "metadata": {},
   "outputs": [
    {
     "data": {
      "text/plain": [
       "Text(0.5,1,'Current Value vs Predicted Value')"
      ]
     },
     "execution_count": 26,
     "metadata": {},
     "output_type": "execute_result"
    },
    {
     "data": {
      "image/png": "[encoded data removed]",
      "text/plain": [
       "<Figure size 432x288 with 1 Axes>"
      ]
     },
     "metadata": {},
     "output_type": "display_data"
    }
   ],
   "source": [
    "%matplotlib inline\n",
    "plt.plot( data[\"x\"], data[\"y_pred\"] )\n",
    "plt.plot( data[\"x\"], data[\"y_current\"], \"ro\" )\n",
    "plt.plot( data[\"x\"], y_mean, \"g\" )\n",
    "plt.title( \"Current Value vs Predicted Value\" )"
   ]
  },
  {
   "cell_type": "code",
   "execution_count": 39,
   "metadata": {},
   "outputs": [],
   "source": [
    "y_m = np.mean(y_current)\n",
    "data[\"SSR\"] = ( data[\"y_pred\"] - y_m )**2\n",
    "data[\"SSD\"] = ( data[\"y_pred\"] - data[\"y_current\"] )**2\n",
    "data[\"SST\"] = ( data[\"y_current\"] - y_m )**2"
   ]
  },
  {
   "cell_type": "code",
   "execution_count": 28,
   "metadata": {},
   "outputs": [
    {
     "data": {
      "text/html": [
       "<div>\n",
       "<style scoped>\n",
       "    .dataframe tbody tr th:only-of-type {\n",
       "        vertical-align: middle;\n",
       "    }\n",
       "\n",
       "    .dataframe tbody tr th {\n",
       "        vertical-align: top;\n",
       "    }\n",
       "\n",
       "    .dataframe thead th {\n",
       "        text-align: right;\n",
       "    }\n",
       "</style>\n",
       "<table border=\"1\" class=\"dataframe\">\n",
       "  <thead>\n",
       "    <tr style=\"text-align: right;\">\n",
       "      <th></th>\n",
       "      <th>x</th>\n",
       "      <th>y_current</th>\n",
       "      <th>y_pred</th>\n",
       "      <th>SSR</th>\n",
       "      <th>SSD</th>\n",
       "      <th>SST</th>\n",
       "    </tr>\n",
       "  </thead>\n",
       "  <tbody>\n",
       "    <tr>\n",
       "      <th>0</th>\n",
       "      <td>2.484284</td>\n",
       "      <td>10.544736</td>\n",
       "      <td>9.720139</td>\n",
       "      <td>3.023039</td>\n",
       "      <td>0.679960</td>\n",
       "      <td>6.570433</td>\n",
       "    </tr>\n",
       "    <tr>\n",
       "      <th>1</th>\n",
       "      <td>0.988208</td>\n",
       "      <td>6.977663</td>\n",
       "      <td>6.877594</td>\n",
       "      <td>1.218499</td>\n",
       "      <td>0.010014</td>\n",
       "      <td>1.007590</td>\n",
       "    </tr>\n",
       "    <tr>\n",
       "      <th>2</th>\n",
       "      <td>4.448049</td>\n",
       "      <td>13.392652</td>\n",
       "      <td>13.451293</td>\n",
       "      <td>29.919176</td>\n",
       "      <td>0.003439</td>\n",
       "      <td>29.281105</td>\n",
       "    </tr>\n",
       "    <tr>\n",
       "      <th>3</th>\n",
       "      <td>0.578553</td>\n",
       "      <td>5.716498</td>\n",
       "      <td>6.099251</td>\n",
       "      <td>3.542674</td>\n",
       "      <td>0.146500</td>\n",
       "      <td>5.130011</td>\n",
       "    </tr>\n",
       "    <tr>\n",
       "      <th>4</th>\n",
       "      <td>0.836374</td>\n",
       "      <td>7.009261</td>\n",
       "      <td>6.589111</td>\n",
       "      <td>1.938609</td>\n",
       "      <td>0.176526</td>\n",
       "      <td>0.945153</td>\n",
       "    </tr>\n",
       "  </tbody>\n",
       "</table>\n",
       "</div>"
      ],
      "text/plain": [
       "          x  y_current     y_pred        SSR       SSD        SST\n",
       "0  2.484284  10.544736   9.720139   3.023039  0.679960   6.570433\n",
       "1  0.988208   6.977663   6.877594   1.218499  0.010014   1.007590\n",
       "2  4.448049  13.392652  13.451293  29.919176  0.003439  29.281105\n",
       "3  0.578553   5.716498   6.099251   3.542674  0.146500   5.130011\n",
       "4  0.836374   7.009261   6.589111   1.938609  0.176526   0.945153"
      ]
     },
     "execution_count": 28,
     "metadata": {},
     "output_type": "execute_result"
    }
   ],
   "source": [
    "data.head()"
   ]
  },
  {
   "cell_type": "code",
   "execution_count": 29,
   "metadata": {},
   "outputs": [],
   "source": [
    "SSR = sum( data[\"SSR\"] )\n",
    "SSD = sum( data[\"SSD\"] )\n",
    "SST = sum( data[\"SST\"] )"
   ]
  },
  {
   "cell_type": "code",
   "execution_count": 30,
   "metadata": {},
   "outputs": [
    {
     "data": {
      "text/plain": [
       "1951.9229685205255"
      ]
     },
     "execution_count": 30,
     "metadata": {},
     "output_type": "execute_result"
    }
   ],
   "source": [
    "SSR"
   ]
  },
  {
   "cell_type": "code",
   "execution_count": 31,
   "metadata": {},
   "outputs": [
    {
     "data": {
      "text/plain": [
       "54.81856703598532"
      ]
     },
     "execution_count": 31,
     "metadata": {},
     "output_type": "execute_result"
    }
   ],
   "source": [
    "SSD"
   ]
  },
  {
   "cell_type": "code",
   "execution_count": 41,
   "metadata": {},
   "outputs": [
    {
     "data": {
      "text/plain": [
       "2006.7415355565108"
      ]
     },
     "execution_count": 41,
     "metadata": {},
     "output_type": "execute_result"
    }
   ],
   "source": [
    "SSR + SSD # It should return the same as SST"
   ]
  },
  {
   "cell_type": "code",
   "execution_count": 32,
   "metadata": {},
   "outputs": [
    {
     "data": {
      "text/plain": [
       "2035.6538781869533"
      ]
     },
     "execution_count": 32,
     "metadata": {},
     "output_type": "execute_result"
    }
   ],
   "source": [
    "SST"
   ]
  },
  {
   "cell_type": "code",
   "execution_count": 53,
   "metadata": {},
   "outputs": [
    {
     "data": {
      "text/plain": [
       "0.9732095756297634"
      ]
     },
     "execution_count": 53,
     "metadata": {},
     "output_type": "execute_result"
    }
   ],
   "source": [
    "R2 = SSR/SST # Regression 95.89% accurate\n",
    "R2"
   ]
  },
  {
   "cell_type": "code",
   "execution_count": 37,
   "metadata": {},
   "outputs": [
    {
     "data": {
      "text/plain": [
       "(array([ 3.,  3.,  4.,  8., 20., 26., 22.,  6.,  3.,  5.]),\n",
       " array([-2.10426645, -1.72216242, -1.3400584 , -0.95795437, -0.57585035,\n",
       "        -0.19374633,  0.1883577 ,  0.57046172,  0.95256575,  1.33466977,\n",
       "         1.71677379]),\n",
       " <a list of 10 Patch objects>)"
      ]
     },
     "execution_count": 37,
     "metadata": {},
     "output_type": "execute_result"
    },
    {
     "data": {
      "image/png": "[encoded data removed]",
      "text/plain": [
       "<Figure size 432x288 with 1 Axes>"
      ]
     },
     "metadata": {},
     "output_type": "display_data"
    }
   ],
   "source": [
    "plt.hist( data[\"y_pred\"] - data[\"y_current\"] ) #It follows the expected normal distribution"
   ]
  },
  {
   "cell_type": "markdown",
   "metadata": {},
   "source": [
    "## Obtaining Linear Regression Line Equation\n",
    "\n",
    "* y = a + b * x\n",
    "* b = sum((xi - x_m)*(y_i - y_m)) / sum((xi - x_m)**2)\n",
    "* a = y_m - b * x_m"
   ]
  },
  {
   "cell_type": "code",
   "execution_count": 42,
   "metadata": {},
   "outputs": [],
   "source": [
    "x_mean = np.mean( data[\"x\"] )\n",
    "y_mean = np.mean( data[\"y_current\"] )"
   ]
  },
  {
   "cell_type": "code",
   "execution_count": 43,
   "metadata": {},
   "outputs": [
    {
     "data": {
      "text/plain": [
       "(1.5473005760742706, 7.981450634167726)"
      ]
     },
     "execution_count": 43,
     "metadata": {},
     "output_type": "execute_result"
    }
   ],
   "source": [
    "x_mean, y_mean"
   ]
  },
  {
   "cell_type": "code",
   "execution_count": 44,
   "metadata": {},
   "outputs": [],
   "source": [
    "data[\"beta_n\"] = (data[\"x\"] - x_mean) * (data[\"y_current\"] - y_mean)\n",
    "data[\"beta_d\"] = (data[\"x\"] - x_mean) ** 2"
   ]
  },
  {
   "cell_type": "code",
   "execution_count": 47,
   "metadata": {},
   "outputs": [
    {
     "data": {
      "text/plain": [
       "1.9142411719549137"
      ]
     },
     "execution_count": 47,
     "metadata": {},
     "output_type": "execute_result"
    }
   ],
   "source": [
    "beta = sum( data[\"beta_n\"] ) / sum( data[\"beta_d\"] )\n",
    "beta"
   ]
  },
  {
   "cell_type": "code",
   "execution_count": 48,
   "metadata": {},
   "outputs": [
    {
     "data": {
      "text/plain": [
       "5.019544166056801"
      ]
     },
     "execution_count": 48,
     "metadata": {},
     "output_type": "execute_result"
    }
   ],
   "source": [
    "alpha = y_mean - beta * x_mean\n",
    "alpha"
   ]
  },
  {
   "cell_type": "markdown",
   "metadata": {},
   "source": [
    "### Lineal Model obtained by regression will be:\n",
    "#### y = 5.019544166056801 + 1.9142411719549137 * x"
   ]
  },
  {
   "cell_type": "code",
   "execution_count": 49,
   "metadata": {},
   "outputs": [],
   "source": [
    "data[\"y_model\"] = alpha + beta * data[\"x\"]"
   ]
  },
  {
   "cell_type": "code",
   "execution_count": 50,
   "metadata": {},
   "outputs": [
    {
     "data": {
      "text/html": [
       "<div>\n",
       "<style scoped>\n",
       "    .dataframe tbody tr th:only-of-type {\n",
       "        vertical-align: middle;\n",
       "    }\n",
       "\n",
       "    .dataframe tbody tr th {\n",
       "        vertical-align: top;\n",
       "    }\n",
       "\n",
       "    .dataframe thead th {\n",
       "        text-align: right;\n",
       "    }\n",
       "</style>\n",
       "<table border=\"1\" class=\"dataframe\">\n",
       "  <thead>\n",
       "    <tr style=\"text-align: right;\">\n",
       "      <th></th>\n",
       "      <th>x</th>\n",
       "      <th>y_current</th>\n",
       "      <th>y_pred</th>\n",
       "      <th>SSR</th>\n",
       "      <th>SSD</th>\n",
       "      <th>SST</th>\n",
       "      <th>beta_n</th>\n",
       "      <th>beta_d</th>\n",
       "      <th>y_model</th>\n",
       "    </tr>\n",
       "  </thead>\n",
       "  <tbody>\n",
       "    <tr>\n",
       "      <th>0</th>\n",
       "      <td>2.484284</td>\n",
       "      <td>10.544736</td>\n",
       "      <td>9.720139</td>\n",
       "      <td>3.023039</td>\n",
       "      <td>0.679960</td>\n",
       "      <td>6.570433</td>\n",
       "      <td>2.401756</td>\n",
       "      <td>0.877938</td>\n",
       "      <td>9.775063</td>\n",
       "    </tr>\n",
       "    <tr>\n",
       "      <th>1</th>\n",
       "      <td>0.988208</td>\n",
       "      <td>6.977663</td>\n",
       "      <td>6.877594</td>\n",
       "      <td>1.218499</td>\n",
       "      <td>0.010014</td>\n",
       "      <td>1.007590</td>\n",
       "      <td>0.561211</td>\n",
       "      <td>0.312585</td>\n",
       "      <td>6.911212</td>\n",
       "    </tr>\n",
       "    <tr>\n",
       "      <th>2</th>\n",
       "      <td>4.448049</td>\n",
       "      <td>13.392652</td>\n",
       "      <td>13.451293</td>\n",
       "      <td>29.919176</td>\n",
       "      <td>0.003439</td>\n",
       "      <td>29.281105</td>\n",
       "      <td>15.696535</td>\n",
       "      <td>8.414341</td>\n",
       "      <td>13.534183</td>\n",
       "    </tr>\n",
       "    <tr>\n",
       "      <th>3</th>\n",
       "      <td>0.578553</td>\n",
       "      <td>5.716498</td>\n",
       "      <td>6.099251</td>\n",
       "      <td>3.542674</td>\n",
       "      <td>0.146500</td>\n",
       "      <td>5.130011</td>\n",
       "      <td>2.194167</td>\n",
       "      <td>0.938471</td>\n",
       "      <td>6.127035</td>\n",
       "    </tr>\n",
       "    <tr>\n",
       "      <th>4</th>\n",
       "      <td>0.836374</td>\n",
       "      <td>7.009261</td>\n",
       "      <td>6.589111</td>\n",
       "      <td>1.938609</td>\n",
       "      <td>0.176526</td>\n",
       "      <td>0.945153</td>\n",
       "      <td>0.691155</td>\n",
       "      <td>0.505416</td>\n",
       "      <td>6.620566</td>\n",
       "    </tr>\n",
       "  </tbody>\n",
       "</table>\n",
       "</div>"
      ],
      "text/plain": [
       "          x  y_current     y_pred        SSR       SSD        SST     beta_n  \\\n",
       "0  2.484284  10.544736   9.720139   3.023039  0.679960   6.570433   2.401756   \n",
       "1  0.988208   6.977663   6.877594   1.218499  0.010014   1.007590   0.561211   \n",
       "2  4.448049  13.392652  13.451293  29.919176  0.003439  29.281105  15.696535   \n",
       "3  0.578553   5.716498   6.099251   3.542674  0.146500   5.130011   2.194167   \n",
       "4  0.836374   7.009261   6.589111   1.938609  0.176526   0.945153   0.691155   \n",
       "\n",
       "     beta_d    y_model  \n",
       "0  0.877938   9.775063  \n",
       "1  0.312585   6.911212  \n",
       "2  8.414341  13.534183  \n",
       "3  0.938471   6.127035  \n",
       "4  0.505416   6.620566  "
      ]
     },
     "execution_count": 50,
     "metadata": {},
     "output_type": "execute_result"
    }
   ],
   "source": [
    "data.head()"
   ]
  },
  {
   "cell_type": "code",
   "execution_count": 51,
   "metadata": {},
   "outputs": [
    {
     "data": {
      "text/plain": [
       "(1981.1178469194067, 54.53603126754461, 2035.653878186953)"
      ]
     },
     "execution_count": 51,
     "metadata": {},
     "output_type": "execute_result"
    }
   ],
   "source": [
    "SSR = sum(( data[\"y_model\"] - y_mean )**2)\n",
    "SSD = sum(( data[\"y_model\"] - data[\"y_current\"] )**2)\n",
    "SST = sum(( data[\"y_current\"] - y_mean )**2)\n",
    "\n",
    "SSR, SSD, SST"
   ]
  },
  {
   "cell_type": "code",
   "execution_count": 52,
   "metadata": {},
   "outputs": [
    {
     "data": {
      "text/plain": [
       "0.9732095756297634"
      ]
     },
     "execution_count": 52,
     "metadata": {},
     "output_type": "execute_result"
    }
   ],
   "source": [
    "R2 = SSR / SST\n",
    "R2 # Regression 97.32% accurate"
   ]
  },
  {
   "cell_type": "code",
   "execution_count": 55,
   "metadata": {},
   "outputs": [
    {
     "data": {
      "text/plain": [
       "Text(0.5,1,'Current Value vs Predicted Value')"
      ]
     },
     "execution_count": 55,
     "metadata": {},
     "output_type": "execute_result"
    },
    {
     "data": {
      "image/png": "[encoded data removed]",
      "text/plain": [
       "<Figure size 432x288 with 1 Axes>"
      ]
     },
     "metadata": {},
     "output_type": "display_data"
    }
   ],
   "source": [
    "y_mean = [ np.mean(y_current) for i in range( 1, len(x_list)+1 ) ]\n",
    "\n",
    "%matplotlib inline\n",
    "plt.plot( data[\"x\"], data[\"y_pred\"] )\n",
    "plt.plot( data[\"x\"], data[\"y_current\"], \"ro\" )\n",
    "plt.plot( data[\"x\"], y_mean, \"g\" )\n",
    "plt.plot( data[\"x\"], data[\"y_model\"] )\n",
    "\n",
    "plt.title( \"Current Value vs Predicted Value\" )"
   ]
  },
  {
   "cell_type": "markdown",
   "metadata": {},
   "source": [
    "## Residual Standard Error"
   ]
  },
  {
   "cell_type": "code",
   "execution_count": 56,
   "metadata": {},
   "outputs": [
    {
     "data": {
      "text/plain": [
       "0.7459826505857525"
      ]
     },
     "execution_count": 56,
     "metadata": {},
     "output_type": "execute_result"
    }
   ],
   "source": [
    "RSE = np.sqrt( SSD / (len(data)-2) )\n",
    "RSE"
   ]
  },
  {
   "cell_type": "markdown",
   "metadata": {},
   "source": [
    "### Error asociated with the model used:"
   ]
  },
  {
   "cell_type": "code",
   "execution_count": 59,
   "metadata": {},
   "outputs": [
    {
     "data": {
      "text/plain": [
       "0.09346454482751312"
      ]
     },
     "execution_count": 59,
     "metadata": {},
     "output_type": "execute_result"
    }
   ],
   "source": [
    "RSE / np.mean( data[\"y_current\"] ) # 9.34%"
   ]
  },
  {
   "cell_type": "code",
   "execution_count": null,
   "metadata": {},
   "outputs": [],
   "source": []
  }
 ],
 "metadata": {
  "kernelspec": {
   "display_name": "Python 3",
   "language": "python",
   "name": "python3"
  },
  "language_info": {
   "codemirror_mode": {
    "name": "ipython",
    "version": 3
   },
   "file_extension": ".py",
   "mimetype": "text/x-python",
   "name": "python",
   "nbconvert_exporter": "python",
   "pygments_lexer": "ipython3",
   "version": "3.6.5"
  }
 },
 "nbformat": 4,
 "nbformat_minor": 2
}
